{
 "cells": [
  {
   "cell_type": "markdown",
   "id": "341538ce",
   "metadata": {},
   "source": [
    "# Unit 2: Data Analysis using NumPy\n",
    "\n"
   ]
  },
  {
   "cell_type": "markdown",
   "id": "30ae3308",
   "metadata": {},
   "source": [
    "# Numpy Statistical Functions : "
   ]
  },
  {
   "cell_type": "raw",
   "id": "248ac6dd",
   "metadata": {},
   "source": [
    "1) np.anum() - Minimum value of the element along a specified axis.\n",
    "2) np.amax() - Maximum value of the element along a specified axis.\n",
    "3) np.mean() - Mean value of a dataset.\n",
    "4) np.median() - Median value of a dataset.\n",
    "5) np.ptp() - Range of values along an axis (peak to peak).\n",
    "6) np.std() - Standard deviation.\n",
    "7) np.var() - Variance.\n",
    "8) np.average() - Weighted average.\n",
    "9) np.percentile() - nth percentile of data along the specified axis. \n",
    "10) np.sort( a = ,axis = ,kind = ) - Sorting an array."
   ]
  },
  {
   "cell_type": "markdown",
   "id": "01457f6d",
   "metadata": {},
   "source": [
    "# Numpy - Numerical Python library"
   ]
  },
  {
   "cell_type": "code",
   "execution_count": 25,
   "id": "4d817901",
   "metadata": {},
   "outputs": [],
   "source": [
    "import numpy as np"
   ]
  },
  {
   "cell_type": "code",
   "execution_count": 26,
   "id": "f9dafbb1",
   "metadata": {},
   "outputs": [
    {
     "data": {
      "text/plain": [
       "array([[1, 2, 3, 4],\n",
       "       [5, 6, 7, 8]])"
      ]
     },
     "execution_count": 26,
     "metadata": {},
     "output_type": "execute_result"
    }
   ],
   "source": [
    "# creating an array from a list\n",
    "arr = np.array([[1,2,3,4],[5,6,7,8]])\n",
    "arr"
   ]
  },
  {
   "cell_type": "code",
   "execution_count": 27,
   "id": "6afe8198",
   "metadata": {},
   "outputs": [
    {
     "name": "stdout",
     "output_type": "stream",
     "text": [
      "2\n"
     ]
    }
   ],
   "source": [
    "# diamension of an array\n",
    "print(arr.ndim)"
   ]
  },
  {
   "cell_type": "code",
   "execution_count": 28,
   "id": "289a9086",
   "metadata": {},
   "outputs": [
    {
     "name": "stdout",
     "output_type": "stream",
     "text": [
      "(2, 4)\n"
     ]
    }
   ],
   "source": [
    "# shape of an array\n",
    "print(arr.shape)"
   ]
  },
  {
   "cell_type": "code",
   "execution_count": 29,
   "id": "3a64b8c3",
   "metadata": {},
   "outputs": [
    {
     "name": "stdout",
     "output_type": "stream",
     "text": [
      "<class 'numpy.ndarray'>\n"
     ]
    }
   ],
   "source": [
    "# type of array\n",
    "print(type(arr))"
   ]
  },
  {
   "cell_type": "code",
   "execution_count": 30,
   "id": "f3add924",
   "metadata": {},
   "outputs": [
    {
     "name": "stdout",
     "output_type": "stream",
     "text": [
      "<memory at 0x0000022F0BBDD110>\n"
     ]
    }
   ],
   "source": [
    "# memory location\n",
    "print(arr.data)"
   ]
  },
  {
   "cell_type": "markdown",
   "id": "8eca958a",
   "metadata": {},
   "source": [
    "# Statistical function"
   ]
  },
  {
   "cell_type": "raw",
   "id": "cac98960",
   "metadata": {},
   "source": [
    "In 2-D array : \n",
    "axis = 0 (Column)\n",
    "axis = 1 (Rows)"
   ]
  },
  {
   "cell_type": "code",
   "execution_count": 31,
   "id": "53aa999b",
   "metadata": {},
   "outputs": [
    {
     "name": "stdout",
     "output_type": "stream",
     "text": [
      "[[54 25 63]\n",
      " [78  1 85]\n",
      " [96 50 10]] \n",
      "\n"
     ]
    }
   ],
   "source": [
    "b = np.array([[54,25,63],[78,1,85],[96,50,10]])\n",
    "print(b,'\\n')"
   ]
  },
  {
   "cell_type": "code",
   "execution_count": 32,
   "id": "6077d52e",
   "metadata": {},
   "outputs": [
    {
     "data": {
      "text/plain": [
       "dtype('int32')"
      ]
     },
     "execution_count": 32,
     "metadata": {},
     "output_type": "execute_result"
    }
   ],
   "source": [
    "b.dtype"
   ]
  },
  {
   "cell_type": "code",
   "execution_count": 33,
   "id": "3d3066d9",
   "metadata": {},
   "outputs": [
    {
     "data": {
      "text/plain": [
       "4"
      ]
     },
     "execution_count": 33,
     "metadata": {},
     "output_type": "execute_result"
    }
   ],
   "source": [
    "b.itemsize"
   ]
  },
  {
   "cell_type": "code",
   "execution_count": 34,
   "id": "7bb2e3dc",
   "metadata": {},
   "outputs": [
    {
     "data": {
      "text/plain": [
       "9"
      ]
     },
     "execution_count": 34,
     "metadata": {},
     "output_type": "execute_result"
    }
   ],
   "source": [
    "b.size"
   ]
  },
  {
   "cell_type": "code",
   "execution_count": 35,
   "id": "45720f67",
   "metadata": {},
   "outputs": [
    {
     "data": {
      "text/plain": [
       "(3, 3)"
      ]
     },
     "execution_count": 35,
     "metadata": {},
     "output_type": "execute_result"
    }
   ],
   "source": [
    "b.shape"
   ]
  },
  {
   "cell_type": "code",
   "execution_count": 36,
   "id": "9ca3307a",
   "metadata": {},
   "outputs": [
    {
     "name": "stdout",
     "output_type": "stream",
     "text": [
      "[[54. 25. 63.]\n",
      " [78.  1. 85.]\n",
      " [96. 50. 10.]] \n",
      "\n",
      "8\n",
      "float64\n",
      "9\n"
     ]
    }
   ],
   "source": [
    "# convert array of int into float\n",
    "c = np.array([[54,25,63],[78,1,85],[96,50,10]], dtype = np.float64)\n",
    "print(c,'\\n')\n",
    "print(c.itemsize)\n",
    "print(c.dtype)\n",
    "print(c.size)"
   ]
  },
  {
   "cell_type": "code",
   "execution_count": 66,
   "id": "b3a9bb3b",
   "metadata": {},
   "outputs": [
    {
     "name": "stdout",
     "output_type": "stream",
     "text": [
      "[[54.+0.j 25.+0.j 63.+0.j]\n",
      " [78.+0.j  1.+0.j 85.+0.j]\n",
      " [96.+0.j 50.+0.j 10.+0.j]] \n",
      "\n",
      "8\n",
      "complex64\n",
      "9 \n",
      "\n",
      "[[54.+0.j 25.+0.j 63.+0.j]\n",
      " [78.+0.j  1.+0.j 85.+0.j]\n",
      " [96.+0.j 50.+0.j 10.+0.j]] \n",
      "\n",
      "16\n",
      "complex128\n",
      "9 \n",
      "\n"
     ]
    }
   ],
   "source": [
    "# convert array of int into complex\n",
    "d1 = np.array([[54,25,63],[78,1,85],[96,50,10]], dtype = np.complex64)\n",
    "print(d1,'\\n')\n",
    "print(d1.itemsize)\n",
    "print(d1.dtype)\n",
    "print(d1.size,'\\n')\n",
    "\n",
    "e = np.array([[54,25,63],[78,1,85],[96,50,10]], dtype = np.complex128)\n",
    "print(e,'\\n')\n",
    "print(e.itemsize)\n",
    "print(e.dtype)\n",
    "print(e.size,'\\n')"
   ]
  },
  {
   "cell_type": "code",
   "execution_count": 38,
   "id": "594c078b",
   "metadata": {},
   "outputs": [
    {
     "name": "stdout",
     "output_type": "stream",
     "text": [
      "462.0\n"
     ]
    }
   ],
   "source": [
    "# sum value of array\n",
    "print(np.sum(c))"
   ]
  },
  {
   "cell_type": "code",
   "execution_count": 39,
   "id": "3b577a74",
   "metadata": {},
   "outputs": [
    {
     "name": "stdout",
     "output_type": "stream",
     "text": [
      "[228.  76. 158.]\n",
      "[142. 164. 156.]\n"
     ]
    }
   ],
   "source": [
    "# sum value along a specified axis\n",
    "print(np.sum(c, axis = 0)) # columns\n",
    "print(np.sum(c, axis = 1)) # rows"
   ]
  },
  {
   "cell_type": "code",
   "execution_count": 40,
   "id": "3eb4f943",
   "metadata": {},
   "outputs": [
    {
     "name": "stdout",
     "output_type": "stream",
     "text": [
      "[[54. 25. 63.]\n",
      " [78.  1. 85.]\n",
      " [96. 50. 10.]]\n",
      "1.0\n",
      "[54.  1. 10.]\n",
      "[25.  1. 10.]\n"
     ]
    }
   ],
   "source": [
    "# Mininum value\n",
    "print(c)\n",
    "print(np.amin(c))\n",
    "print(np.amin(c,axis=0))\n",
    "print(np.amin(c,axis=1))"
   ]
  },
  {
   "cell_type": "code",
   "execution_count": 41,
   "id": "2e0ecf57",
   "metadata": {},
   "outputs": [
    {
     "name": "stdout",
     "output_type": "stream",
     "text": [
      "[[54. 25. 63.]\n",
      " [78.  1. 85.]\n",
      " [96. 50. 10.]]\n",
      "96.0\n",
      "[96. 50. 85.]\n",
      "[63. 85. 96.]\n"
     ]
    }
   ],
   "source": [
    "# Maximum value\n",
    "print(c)\n",
    "print(np.amax(c))\n",
    "print(np.amax(c,axis=0))\n",
    "print(np.amax(c,axis=1))"
   ]
  },
  {
   "cell_type": "code",
   "execution_count": 42,
   "id": "65222dd0",
   "metadata": {},
   "outputs": [
    {
     "name": "stdout",
     "output_type": "stream",
     "text": [
      "[[54. 25. 63.]\n",
      " [78.  1. 85.]\n",
      " [96. 50. 10.]]\n",
      "51.333333333333336 \n",
      "\n",
      "[76.         25.33333333 52.66666667] \n",
      "\n",
      "[47.33333333 54.66666667 52.        ] \n",
      "\n",
      "<class 'numpy.ndarray'>\n"
     ]
    }
   ],
   "source": [
    "# Mean\n",
    "print(c)\n",
    "print(np.mean(c),'\\n')\n",
    "print(np.mean(c,axis=0),'\\n')\n",
    "print(np.mean(c,axis=1),'\\n')\n",
    "print(type(c))"
   ]
  },
  {
   "cell_type": "code",
   "execution_count": 43,
   "id": "8d1f7efb",
   "metadata": {},
   "outputs": [
    {
     "name": "stdout",
     "output_type": "stream",
     "text": [
      "[[54. 25. 63.]\n",
      " [78.  1. 85.]\n",
      " [96. 50. 10.]]\n",
      "54.0\n",
      "[78. 25. 63.]\n",
      "[54. 78. 50.]\n"
     ]
    }
   ],
   "source": [
    "# Median\n",
    "print(c)\n",
    "print(np.median(c))\n",
    "print(np.median(c,axis=0))\n",
    "print(np.median(c,axis=1))"
   ]
  },
  {
   "cell_type": "code",
   "execution_count": 44,
   "id": "d99ce322",
   "metadata": {},
   "outputs": [
    {
     "name": "stdout",
     "output_type": "stream",
     "text": [
      "[[54. 25. 63.]\n",
      " [78.  1. 85.]\n",
      " [96. 50. 10.]]\n",
      "31.481917208313586\n",
      "[17.20465053 20.00555478 31.47838765]\n",
      "[16.21384868 38.055515   35.13782387]\n"
     ]
    }
   ],
   "source": [
    "# Standard deviation\n",
    "print(c)\n",
    "print(np.std(c))\n",
    "print(np.std(c,axis=0))\n",
    "print(np.std(c,axis=1))"
   ]
  },
  {
   "cell_type": "code",
   "execution_count": 45,
   "id": "22e88417",
   "metadata": {},
   "outputs": [
    {
     "name": "stdout",
     "output_type": "stream",
     "text": [
      "[[54. 25. 63.]\n",
      " [78.  1. 85.]\n",
      " [96. 50. 10.]]\n",
      "991.1111111111111\n",
      "[296.         400.22222222 990.88888889]\n",
      "[ 262.88888889 1448.22222222 1234.66666667]\n"
     ]
    }
   ],
   "source": [
    "# variance\n",
    "print(c)\n",
    "print(np.var(c))\n",
    "print(np.var(c,axis=0))\n",
    "print(np.var(c,axis=1))"
   ]
  },
  {
   "cell_type": "code",
   "execution_count": 46,
   "id": "ca8a97d8",
   "metadata": {},
   "outputs": [
    {
     "name": "stdout",
     "output_type": "stream",
     "text": [
      "51.333333333333336\n"
     ]
    }
   ],
   "source": [
    "# Weighted Average\n",
    "print(np.average(c))"
   ]
  },
  {
   "cell_type": "code",
   "execution_count": 53,
   "id": "6f2dd077",
   "metadata": {},
   "outputs": [
    {
     "name": "stdout",
     "output_type": "stream",
     "text": [
      "[ 2  4  6  1  3  5  8 10 12  7  9 11]\n"
     ]
    }
   ],
   "source": [
    "a = np.array([2,4,6,1,3,5,8,10,12,7,9,11])\n",
    "print(a)"
   ]
  },
  {
   "cell_type": "code",
   "execution_count": 48,
   "id": "4de6ec73",
   "metadata": {},
   "outputs": [
    {
     "name": "stdout",
     "output_type": "stream",
     "text": [
      "[0.25 0.5  0.25 0.5  0.25 0.5  0.25 0.5  0.25 0.5  0.25 0.5 ]\n"
     ]
    }
   ],
   "source": [
    "w = np.array([0.25,0.5,0.25,0.5,0.25,0.5,0.25,0.5,0.25,0.5,0.25,0.5])\n",
    "print(w)"
   ]
  },
  {
   "cell_type": "code",
   "execution_count": 49,
   "id": "834719e1",
   "metadata": {},
   "outputs": [
    {
     "name": "stdout",
     "output_type": "stream",
     "text": [
      "6.444444444444445\n"
     ]
    }
   ],
   "source": [
    "print(np.average(a, weights=w))"
   ]
  },
  {
   "cell_type": "code",
   "execution_count": 64,
   "id": "4d7d1445",
   "metadata": {},
   "outputs": [
    {
     "name": "stdout",
     "output_type": "stream",
     "text": [
      "[[54. 25. 63.]\n",
      " [78.  1. 85.]\n",
      " [96. 50. 10.]] \n",
      "\n",
      "4.6 \n",
      "\n",
      "[56.4  3.4 15.3]\n",
      "[27.9  8.7 14. ]\n"
     ]
    }
   ],
   "source": [
    "# percentile\n",
    "print(c,'\\n')\n",
    "print(np.percentile(c,5),'\\n')\n",
    "print(np.percentile(c,5,0))\n",
    "print(np.percentile(c,5,1))"
   ]
  },
  {
   "cell_type": "code",
   "execution_count": 58,
   "id": "8a6b3ebe",
   "metadata": {},
   "outputs": [
    {
     "name": "stdout",
     "output_type": "stream",
     "text": [
      "[[54. 25. 63.]\n",
      " [78.  1. 85.]\n",
      " [96. 50. 10.]]\n",
      "[42. 49. 75.]\n",
      "[38. 84. 86.]\n",
      "\n",
      "\n",
      "[ 2  4  6  1  3  5  8 10 12  7  9 11]\n",
      "11\n"
     ]
    }
   ],
   "source": [
    "# peak to peak\n",
    "print(c)\n",
    "print(np.ptp(c,0))\n",
    "print(np.ptp(c,1))\n",
    "print('\\n')\n",
    "print(a)\n",
    "print(np.ptp(a,0))\n"
   ]
  },
  {
   "cell_type": "code",
   "execution_count": 67,
   "id": "356f35f5",
   "metadata": {},
   "outputs": [
    {
     "name": "stdout",
     "output_type": "stream",
     "text": [
      "[[1 2 4 5]\n",
      " [8 7 9 6]] \n",
      "\n",
      "[[1 2]\n",
      " [4 5]\n",
      " [8 7]\n",
      " [9 6]] \n",
      "\n"
     ]
    }
   ],
   "source": [
    "# reshape of an array\n",
    "x = np.array([[1,2,4,5],[8,7,9,6]])\n",
    "print(x,'\\n')\n",
    "print(x.reshape(4,2),'\\n')"
   ]
  },
  {
   "cell_type": "markdown",
   "id": "95380454",
   "metadata": {},
   "source": [
    "# Slicing"
   ]
  },
  {
   "cell_type": "code",
   "execution_count": 65,
   "id": "e6e03fca",
   "metadata": {},
   "outputs": [
    {
     "name": "stdout",
     "output_type": "stream",
     "text": [
      "[[23 25 27 29]\n",
      " [43 45 47 49]\n",
      " [62 66 68 70]]\n"
     ]
    }
   ],
   "source": [
    "# 2-D Array\n",
    "l=np.array([[23,25,27,29],[43,45,47,49],[62,66,68,70]])\n",
    "print(l)"
   ]
  },
  {
   "cell_type": "markdown",
   "id": "96739fe5",
   "metadata": {},
   "source": [
    "# Stacking"
   ]
  },
  {
   "cell_type": "code",
   "execution_count": null,
   "id": "f5141a93",
   "metadata": {},
   "outputs": [],
   "source": []
  },
  {
   "cell_type": "markdown",
   "id": "de198640",
   "metadata": {},
   "source": [
    "# Mathematical Operation"
   ]
  },
  {
   "cell_type": "code",
   "execution_count": null,
   "id": "31040f90",
   "metadata": {},
   "outputs": [],
   "source": []
  }
 ],
 "metadata": {
  "kernelspec": {
   "display_name": "Python 3 (ipykernel)",
   "language": "python",
   "name": "python3"
  },
  "language_info": {
   "codemirror_mode": {
    "name": "ipython",
    "version": 3
   },
   "file_extension": ".py",
   "mimetype": "text/x-python",
   "name": "python",
   "nbconvert_exporter": "python",
   "pygments_lexer": "ipython3",
   "version": "3.9.12"
  }
 },
 "nbformat": 4,
 "nbformat_minor": 5
}
