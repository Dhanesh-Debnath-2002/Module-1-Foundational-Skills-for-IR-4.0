{
 "cells": [
  {
   "cell_type": "markdown",
   "id": "a9ad7483",
   "metadata": {},
   "source": [
    "# String Formatting"
   ]
  },
  {
   "cell_type": "markdown",
   "id": "6c2a809c",
   "metadata": {},
   "source": [
    "### Positioning Formating"
   ]
  },
  {
   "cell_type": "code",
   "execution_count": 16,
   "id": "b2fb7939",
   "metadata": {},
   "outputs": [
    {
     "name": "stdout",
     "output_type": "stream",
     "text": [
      "Programming Python Language\n"
     ]
    }
   ],
   "source": [
    "str=\"{1} {0} {2}\".format('Python','Programming','Language')\n",
    "print(str)"
   ]
  },
  {
   "cell_type": "code",
   "execution_count": 17,
   "id": "768019fa",
   "metadata": {},
   "outputs": [
    {
     "name": "stdout",
     "output_type": "stream",
     "text": [
      "Language Python Programming\n"
     ]
    }
   ],
   "source": [
    "str=\"{2} {0} {1}\".format('Python','Programming','Language')\n",
    "print(str)"
   ]
  },
  {
   "cell_type": "code",
   "execution_count": 18,
   "id": "ea4f7c57",
   "metadata": {},
   "outputs": [
    {
     "name": "stdout",
     "output_type": "stream",
     "text": [
      "Language Programming Python\n"
     ]
    }
   ],
   "source": [
    "str=\"{2} {1} {0}\".format('Python','Programming','Language')\n",
    "print(str)"
   ]
  },
  {
   "cell_type": "markdown",
   "id": "12da504b",
   "metadata": {},
   "source": [
    "### Keyword Formatting"
   ]
  },
  {
   "cell_type": "code",
   "execution_count": 19,
   "id": "a33ff2c0",
   "metadata": {},
   "outputs": [
    {
     "name": "stdout",
     "output_type": "stream",
     "text": [
      "Python Programming Language\n"
     ]
    }
   ],
   "source": [
    "str=\"{a} {b} {c}\".format(a='Python',b='Programming',c='Language')\n",
    "print(str)"
   ]
  },
  {
   "cell_type": "code",
   "execution_count": 20,
   "id": "3dcc8de0",
   "metadata": {},
   "outputs": [
    {
     "name": "stdout",
     "output_type": "stream",
     "text": [
      "Programming Python Language\n"
     ]
    }
   ],
   "source": [
    "str=\"{b} {a} {c}\".format(a='Python',b='Programming',c='Language')\n",
    "print(str)"
   ]
  },
  {
   "cell_type": "code",
   "execution_count": 21,
   "id": "ebd64961",
   "metadata": {},
   "outputs": [
    {
     "name": "stdout",
     "output_type": "stream",
     "text": [
      "Language Programming Python\n"
     ]
    }
   ],
   "source": [
    "str=\"{c} {b} {a}\".format(a='Python',b='Programming',c='Language')\n",
    "print(str)"
   ]
  },
  {
   "cell_type": "markdown",
   "id": "19a10a72",
   "metadata": {},
   "source": [
    "# List"
   ]
  },
  {
   "cell_type": "code",
   "execution_count": 22,
   "id": "bce2a710",
   "metadata": {},
   "outputs": [],
   "source": [
    "list1 = [123,'ab',2.23,'man']\n",
    "small= [456,'qwerty']"
   ]
  },
  {
   "cell_type": "code",
   "execution_count": 23,
   "id": "345c362f",
   "metadata": {},
   "outputs": [
    {
     "name": "stdout",
     "output_type": "stream",
     "text": [
      "[456, 'qwerty', 456, 'qwerty']\n"
     ]
    }
   ],
   "source": [
    "print(small * 2)"
   ]
  },
  {
   "cell_type": "code",
   "execution_count": 24,
   "id": "c8fc9537",
   "metadata": {},
   "outputs": [
    {
     "name": "stdout",
     "output_type": "stream",
     "text": [
      "[123, 'ab', 2.23, 'man', 456, 'qwerty']\n"
     ]
    }
   ],
   "source": [
    "print(list1 + small)"
   ]
  },
  {
   "cell_type": "code",
   "execution_count": 25,
   "id": "e79ce19d",
   "metadata": {},
   "outputs": [
    {
     "data": {
      "text/plain": [
       "123"
      ]
     },
     "execution_count": 25,
     "metadata": {},
     "output_type": "execute_result"
    }
   ],
   "source": [
    "list1[0]"
   ]
  },
  {
   "cell_type": "code",
   "execution_count": 26,
   "id": "2038a071",
   "metadata": {},
   "outputs": [],
   "source": [
    "list1[0]=365"
   ]
  },
  {
   "cell_type": "code",
   "execution_count": 27,
   "id": "dfaf0460",
   "metadata": {},
   "outputs": [
    {
     "data": {
      "text/plain": [
       "[365, 'ab', 2.23, 'man']"
      ]
     },
     "execution_count": 27,
     "metadata": {},
     "output_type": "execute_result"
    }
   ],
   "source": [
    "list1"
   ]
  },
  {
   "cell_type": "code",
   "execution_count": 28,
   "id": "0501f030",
   "metadata": {},
   "outputs": [],
   "source": [
    "list1[3]='hhh'"
   ]
  },
  {
   "cell_type": "code",
   "execution_count": 29,
   "id": "cd474d3c",
   "metadata": {},
   "outputs": [
    {
     "data": {
      "text/plain": [
       "[365, 'ab', 2.23, 'hhh']"
      ]
     },
     "execution_count": 29,
     "metadata": {},
     "output_type": "execute_result"
    }
   ],
   "source": [
    "list1"
   ]
  },
  {
   "cell_type": "code",
   "execution_count": 33,
   "id": "7a712e6d",
   "metadata": {},
   "outputs": [
    {
     "name": "stdout",
     "output_type": "stream",
     "text": [
      "Enter any sequence 12 34 25 52 62 12 34 25 52 62 22\n"
     ]
    }
   ],
   "source": [
    "str = input(\"Enter any sequence \")"
   ]
  },
  {
   "cell_type": "code",
   "execution_count": 34,
   "id": "72dc2249",
   "metadata": {},
   "outputs": [],
   "source": [
    "a=str.split()"
   ]
  },
  {
   "cell_type": "code",
   "execution_count": 35,
   "id": "4d6db8e9",
   "metadata": {},
   "outputs": [
    {
     "name": "stdout",
     "output_type": "stream",
     "text": [
      "['12', '34', '25', '52', '62', '12', '34', '25', '52', '62', '22']\n"
     ]
    }
   ],
   "source": [
    "print(a)"
   ]
  },
  {
   "cell_type": "code",
   "execution_count": 62,
   "id": "72ca69ca",
   "metadata": {},
   "outputs": [],
   "source": [
    "a1=str.split('12')"
   ]
  },
  {
   "cell_type": "code",
   "execution_count": 63,
   "id": "ed0a5e40",
   "metadata": {},
   "outputs": [
    {
     "name": "stdout",
     "output_type": "stream",
     "text": [
      "['', ' 34 25 52 62 ', ' 34 25 52 62 22']\n"
     ]
    }
   ],
   "source": [
    "print(a1)"
   ]
  },
  {
   "cell_type": "code",
   "execution_count": 53,
   "id": "8e588185",
   "metadata": {},
   "outputs": [
    {
     "name": "stdout",
     "output_type": "stream",
     "text": [
      "Enter any sequence iparuluniversity pairul gujarati\n"
     ]
    }
   ],
   "source": [
    "str1 = input(\"Enter any sequence \")"
   ]
  },
  {
   "cell_type": "code",
   "execution_count": 54,
   "id": "8686762a",
   "metadata": {},
   "outputs": [],
   "source": [
    "b=str1.split()"
   ]
  },
  {
   "cell_type": "code",
   "execution_count": 55,
   "id": "c4f75f26",
   "metadata": {},
   "outputs": [
    {
     "name": "stdout",
     "output_type": "stream",
     "text": [
      "['iparuluniversity', 'pairul', 'gujarati']\n"
     ]
    }
   ],
   "source": [
    "print(b)"
   ]
  },
  {
   "cell_type": "code",
   "execution_count": 56,
   "id": "92eae124",
   "metadata": {},
   "outputs": [],
   "source": [
    "c=str1.split('i')"
   ]
  },
  {
   "cell_type": "code",
   "execution_count": 57,
   "id": "7205e224",
   "metadata": {},
   "outputs": [
    {
     "name": "stdout",
     "output_type": "stream",
     "text": [
      "['', 'parulun', 'vers', 'ty pa', 'rul gujarat', '']\n"
     ]
    }
   ],
   "source": [
    "print(c)"
   ]
  },
  {
   "cell_type": "code",
   "execution_count": 66,
   "id": "1e56dde6",
   "metadata": {},
   "outputs": [
    {
     "name": "stdout",
     "output_type": "stream",
     "text": [
      "Enter any sequence 12 5 5 68 3 john uma\n"
     ]
    }
   ],
   "source": [
    "str2 = input(\"Enter any sequence \")"
   ]
  },
  {
   "cell_type": "code",
   "execution_count": 67,
   "id": "3f5c046f",
   "metadata": {},
   "outputs": [
    {
     "data": {
      "text/plain": [
       "'12 5 5 68 3 john uma'"
      ]
     },
     "execution_count": 67,
     "metadata": {},
     "output_type": "execute_result"
    }
   ],
   "source": [
    "str2"
   ]
  },
  {
   "cell_type": "code",
   "execution_count": 68,
   "id": "d6ee59ae",
   "metadata": {},
   "outputs": [],
   "source": [
    "d=str2.split()"
   ]
  },
  {
   "cell_type": "code",
   "execution_count": 69,
   "id": "d6fc857c",
   "metadata": {},
   "outputs": [
    {
     "data": {
      "text/plain": [
       "['12', '5', '5', '68', '3', 'john', 'uma']"
      ]
     },
     "execution_count": 69,
     "metadata": {},
     "output_type": "execute_result"
    }
   ],
   "source": [
    "d"
   ]
  },
  {
   "cell_type": "code",
   "execution_count": 70,
   "id": "2b4d2f4e",
   "metadata": {},
   "outputs": [],
   "source": [
    "d=str2.split(\"5\")"
   ]
  },
  {
   "cell_type": "code",
   "execution_count": 71,
   "id": "38365542",
   "metadata": {},
   "outputs": [
    {
     "data": {
      "text/plain": [
       "['12 ', ' ', ' 68 3 john uma']"
      ]
     },
     "execution_count": 71,
     "metadata": {},
     "output_type": "execute_result"
    }
   ],
   "source": [
    "d"
   ]
  },
  {
   "cell_type": "markdown",
   "id": "e5c922d5",
   "metadata": {},
   "source": [
    "# Tuple"
   ]
  },
  {
   "cell_type": "code",
   "execution_count": 36,
   "id": "4a21dab1",
   "metadata": {},
   "outputs": [],
   "source": [
    "tuple1 = ('abcd' ,789, 2.23, 70.2,'qwerty')\n",
    "tuple2 = ('small',525,'hhs')"
   ]
  },
  {
   "cell_type": "code",
   "execution_count": 37,
   "id": "994a51af",
   "metadata": {},
   "outputs": [
    {
     "name": "stdout",
     "output_type": "stream",
     "text": [
      "('abcd', 789, 2.23, 70.2, 'qwerty') ('small', 525, 'hhs')\n"
     ]
    }
   ],
   "source": [
    "print(tuple1,tuple2)"
   ]
  },
  {
   "cell_type": "code",
   "execution_count": 38,
   "id": "1f49e062",
   "metadata": {},
   "outputs": [
    {
     "name": "stdout",
     "output_type": "stream",
     "text": [
      "789\n"
     ]
    }
   ],
   "source": [
    "print(tuple1[1])"
   ]
  },
  {
   "cell_type": "code",
   "execution_count": 39,
   "id": "9510e157",
   "metadata": {},
   "outputs": [
    {
     "name": "stdout",
     "output_type": "stream",
     "text": [
      "(789, 2.23)\n"
     ]
    }
   ],
   "source": [
    "print(tuple1[1:3])"
   ]
  },
  {
   "cell_type": "code",
   "execution_count": 1,
   "id": "563f38e4",
   "metadata": {},
   "outputs": [
    {
     "data": {
      "text/plain": [
       "'h'"
      ]
     },
     "execution_count": 1,
     "metadata": {},
     "output_type": "execute_result"
    }
   ],
   "source": [
    "t=['hii',12,13]\n",
    "t[0][:1]"
   ]
  },
  {
   "cell_type": "markdown",
   "id": "4c002827",
   "metadata": {},
   "source": [
    "#### Updating The tuple"
   ]
  },
  {
   "cell_type": "code",
   "execution_count": 40,
   "id": "e38cb81f",
   "metadata": {},
   "outputs": [],
   "source": [
    "tuple2 = ('abcd' ,789, 2.23, 70.2,'qwerty')"
   ]
  },
  {
   "cell_type": "code",
   "execution_count": 41,
   "id": "014f839a",
   "metadata": {},
   "outputs": [
    {
     "ename": "TypeError",
     "evalue": "'tuple' object does not support item assignment",
     "output_type": "error",
     "traceback": [
      "\u001b[1;31m---------------------------------------------------------------------------\u001b[0m",
      "\u001b[1;31mTypeError\u001b[0m                                 Traceback (most recent call last)",
      "Input \u001b[1;32mIn [41]\u001b[0m, in \u001b[0;36m<cell line: 1>\u001b[1;34m()\u001b[0m\n\u001b[1;32m----> 1\u001b[0m tuple2[\u001b[38;5;241m0\u001b[39m]\u001b[38;5;241m=\u001b[39m\u001b[38;5;124m'\u001b[39m\u001b[38;5;124mddd\u001b[39m\u001b[38;5;124m'\u001b[39m\n",
      "\u001b[1;31mTypeError\u001b[0m: 'tuple' object does not support item assignment"
     ]
    }
   ],
   "source": [
    "tuple2[0]='ddd'"
   ]
  },
  {
   "cell_type": "markdown",
   "id": "1de35b07",
   "metadata": {},
   "source": [
    "# Dictionary"
   ]
  },
  {
   "cell_type": "code",
   "execution_count": 42,
   "id": "8634c61f",
   "metadata": {},
   "outputs": [],
   "source": [
    "# First Declaration\n",
    "dict1 = {'id' : 1234, 'name' : 'Dhanesh', 'dept' : 'technical'}\n",
    "\n",
    "# Second Declaration\n",
    "dict2 = {}  # Empty dictionary is created\n",
    "dict2['one'] = \"This is python\"\n",
    "dict2[2] = \"This is java\""
   ]
  },
  {
   "cell_type": "code",
   "execution_count": 43,
   "id": "65b41975",
   "metadata": {},
   "outputs": [
    {
     "name": "stdout",
     "output_type": "stream",
     "text": [
      "This is python\n"
     ]
    }
   ],
   "source": [
    "print(dict2['one'])"
   ]
  },
  {
   "cell_type": "code",
   "execution_count": 44,
   "id": "7f37b257",
   "metadata": {},
   "outputs": [
    {
     "name": "stdout",
     "output_type": "stream",
     "text": [
      "This is java\n"
     ]
    }
   ],
   "source": [
    "print(dict2[2])"
   ]
  },
  {
   "cell_type": "code",
   "execution_count": 45,
   "id": "c01b53f3",
   "metadata": {},
   "outputs": [
    {
     "name": "stdout",
     "output_type": "stream",
     "text": [
      "{'id': 1234, 'name': 'Dhanesh', 'dept': 'technical'}\n"
     ]
    }
   ],
   "source": [
    "print(dict1)"
   ]
  },
  {
   "cell_type": "code",
   "execution_count": 46,
   "id": "c5ee8e47",
   "metadata": {},
   "outputs": [
    {
     "name": "stdout",
     "output_type": "stream",
     "text": [
      "dict_keys(['id', 'name', 'dept'])\n"
     ]
    }
   ],
   "source": [
    "print(dict1.keys())"
   ]
  },
  {
   "cell_type": "code",
   "execution_count": 47,
   "id": "d7ce6b3f",
   "metadata": {},
   "outputs": [
    {
     "name": "stdout",
     "output_type": "stream",
     "text": [
      "dict_values([1234, 'Dhanesh', 'technical'])\n"
     ]
    }
   ],
   "source": [
    "print(dict1.values())"
   ]
  },
  {
   "cell_type": "markdown",
   "id": "948628c5",
   "metadata": {},
   "source": [
    "### Updating a dictionary"
   ]
  },
  {
   "cell_type": "code",
   "execution_count": 48,
   "id": "f85277c6",
   "metadata": {},
   "outputs": [],
   "source": [
    "dict1['id']=582"
   ]
  },
  {
   "cell_type": "code",
   "execution_count": 49,
   "id": "38ba710a",
   "metadata": {},
   "outputs": [
    {
     "name": "stdout",
     "output_type": "stream",
     "text": [
      "582\n"
     ]
    }
   ],
   "source": [
    "print(dict1['id'])"
   ]
  },
  {
   "cell_type": "code",
   "execution_count": 50,
   "id": "c770a513",
   "metadata": {},
   "outputs": [
    {
     "name": "stdout",
     "output_type": "stream",
     "text": [
      "{'id': 582, 'name': 'Dhanesh', 'dept': 'technical'}\n"
     ]
    }
   ],
   "source": [
    "print(dict1)"
   ]
  },
  {
   "cell_type": "markdown",
   "id": "1023552d",
   "metadata": {},
   "source": [
    "# Note"
   ]
  },
  {
   "cell_type": "code",
   "execution_count": 51,
   "id": "2a50a995",
   "metadata": {},
   "outputs": [],
   "source": [
    "q=12"
   ]
  },
  {
   "cell_type": "markdown",
   "id": "d515c2f8",
   "metadata": {},
   "source": [
    "### Answer is in Float\n",
    "### Single divide symbol is for float answer"
   ]
  },
  {
   "cell_type": "code",
   "execution_count": 52,
   "id": "ef907cd9",
   "metadata": {},
   "outputs": [
    {
     "name": "stdout",
     "output_type": "stream",
     "text": [
      "3.0\n"
     ]
    }
   ],
   "source": [
    "var = q / 4\n",
    "print(var)"
   ]
  },
  {
   "cell_type": "markdown",
   "id": "f2a08506",
   "metadata": {},
   "source": [
    "### Answer is in int\n",
    "### Double divide symbol is for int answer"
   ]
  },
  {
   "cell_type": "code",
   "execution_count": 55,
   "id": "845d1418",
   "metadata": {},
   "outputs": [
    {
     "name": "stdout",
     "output_type": "stream",
     "text": [
      "3\n"
     ]
    }
   ],
   "source": [
    "var1 = q // 4\n",
    "print(var1)"
   ]
  },
  {
   "cell_type": "code",
   "execution_count": 7,
   "id": "0bb97182",
   "metadata": {},
   "outputs": [
    {
     "name": "stdout",
     "output_type": "stream",
     "text": [
      "0\n",
      "2\n",
      "4\n",
      "6\n",
      "8\n"
     ]
    }
   ],
   "source": [
    "for i in range(0,10,2):\n",
    "    print(i)"
   ]
  },
  {
   "cell_type": "code",
   "execution_count": 10,
   "id": "8afc4da9",
   "metadata": {},
   "outputs": [
    {
     "name": "stdout",
     "output_type": "stream",
     "text": [
      "0\n",
      "1\n",
      "2\n",
      "3\n",
      "4\n",
      "5\n",
      "6\n",
      "7\n",
      "8\n",
      "9\n",
      "10\n",
      "11\n",
      "12\n",
      "13\n",
      "14\n",
      "15\n",
      "16\n",
      "17\n",
      "18\n",
      "19\n"
     ]
    }
   ],
   "source": [
    "for i in range(0,20):\n",
    "    print(i)"
   ]
  },
  {
   "cell_type": "code",
   "execution_count": 15,
   "id": "c2b07ff3",
   "metadata": {},
   "outputs": [
    {
     "name": "stdout",
     "output_type": "stream",
     "text": [
      "10\n",
      "8\n",
      "6\n",
      "4\n"
     ]
    }
   ],
   "source": [
    "for i in range(10,2,-2):\n",
    "    print(i)"
   ]
  },
  {
   "cell_type": "code",
   "execution_count": 21,
   "id": "3e946b2f",
   "metadata": {},
   "outputs": [
    {
     "name": "stdout",
     "output_type": "stream",
     "text": [
      "2\n",
      "4\n",
      "6\n",
      "8\n",
      "10\n",
      "12\n",
      "14\n",
      "16\n",
      "18\n"
     ]
    }
   ],
   "source": [
    "for i in range(2,20,2):\n",
    "    print(i)"
   ]
  }
 ],
 "metadata": {
  "kernelspec": {
   "display_name": "Python 3 (ipykernel)",
   "language": "python",
   "name": "python3"
  },
  "language_info": {
   "codemirror_mode": {
    "name": "ipython",
    "version": 3
   },
   "file_extension": ".py",
   "mimetype": "text/x-python",
   "name": "python",
   "nbconvert_exporter": "python",
   "pygments_lexer": "ipython3",
   "version": "3.9.12"
  }
 },
 "nbformat": 4,
 "nbformat_minor": 5
}
